{
 "cells": [
  {
   "cell_type": "markdown",
   "id": "791a8cea",
   "metadata": {},
   "source": [
    "# Imports"
   ]
  },
  {
   "cell_type": "code",
   "execution_count": 1,
   "id": "1b8de1ea",
   "metadata": {
    "ExecuteTime": {
     "end_time": "2023-01-14T14:03:37.230650Z",
     "start_time": "2023-01-14T14:03:36.491222Z"
    }
   },
   "outputs": [],
   "source": [
    "import pandas as pd\n",
    "import matplotlib.pyplot as plt\n",
    "import glob"
   ]
  },
  {
   "cell_type": "markdown",
   "id": "efaf26a6",
   "metadata": {},
   "source": [
    "# Data"
   ]
  },
  {
   "cell_type": "markdown",
   "id": "8e40b76b",
   "metadata": {},
   "source": [
    "## Dados cadastrais"
   ]
  },
  {
   "cell_type": "code",
   "execution_count": 63,
   "id": "394e0918",
   "metadata": {
    "ExecuteTime": {
     "end_time": "2023-01-14T14:48:36.543121Z",
     "start_time": "2023-01-14T14:48:36.182449Z"
    }
   },
   "outputs": [
    {
     "name": "stderr",
     "output_type": "stream",
     "text": [
      "/tmp/ipykernel_5842/4102126748.py:1: DtypeWarning: Columns (14,17,18,20,22,24,27,37,38) have mixed types. Specify dtype option on import or set low_memory=False.\n",
      "  info_cadastro = pd.read_csv('../data/fundos/cad_fi.csv', encoding='ISO-8859-1', sep=';')\n"
     ]
    }
   ],
   "source": [
    "info_cadastro = pd.read_csv('../data/fundos/cad_fi.csv', encoding='ISO-8859-1', sep=';')"
   ]
  },
  {
   "cell_type": "code",
   "execution_count": 5,
   "id": "50ae5951",
   "metadata": {
    "ExecuteTime": {
     "end_time": "2023-01-14T12:31:41.105927Z",
     "start_time": "2023-01-14T12:31:41.066887Z"
    }
   },
   "outputs": [
    {
     "data": {
      "text/html": [
       "<div>\n",
       "<style scoped>\n",
       "    .dataframe tbody tr th:only-of-type {\n",
       "        vertical-align: middle;\n",
       "    }\n",
       "\n",
       "    .dataframe tbody tr th {\n",
       "        vertical-align: top;\n",
       "    }\n",
       "\n",
       "    .dataframe thead th {\n",
       "        text-align: right;\n",
       "    }\n",
       "</style>\n",
       "<table border=\"1\" class=\"dataframe\">\n",
       "  <thead>\n",
       "    <tr style=\"text-align: right;\">\n",
       "      <th></th>\n",
       "      <th>TP_FUNDO</th>\n",
       "      <th>CNPJ_FUNDO</th>\n",
       "      <th>DENOM_SOCIAL</th>\n",
       "      <th>DT_REG</th>\n",
       "      <th>DT_CONST</th>\n",
       "      <th>CD_CVM</th>\n",
       "      <th>DT_CANCEL</th>\n",
       "      <th>SIT</th>\n",
       "      <th>DT_INI_SIT</th>\n",
       "      <th>DT_INI_ATIV</th>\n",
       "      <th>...</th>\n",
       "      <th>ADMIN</th>\n",
       "      <th>PF_PJ_GESTOR</th>\n",
       "      <th>CPF_CNPJ_GESTOR</th>\n",
       "      <th>GESTOR</th>\n",
       "      <th>CNPJ_AUDITOR</th>\n",
       "      <th>AUDITOR</th>\n",
       "      <th>CNPJ_CUSTODIANTE</th>\n",
       "      <th>CUSTODIANTE</th>\n",
       "      <th>CNPJ_CONTROLADOR</th>\n",
       "      <th>CONTROLADOR</th>\n",
       "    </tr>\n",
       "  </thead>\n",
       "  <tbody>\n",
       "    <tr>\n",
       "      <th>0</th>\n",
       "      <td>FACFIF</td>\n",
       "      <td>00.000.684/0001-21</td>\n",
       "      <td>DEUTSCHE BANK FDO APLIC QUOTAS FDO INV FINANCE...</td>\n",
       "      <td>2003-04-30</td>\n",
       "      <td>1994-12-20</td>\n",
       "      <td>19.0</td>\n",
       "      <td>2000-08-01</td>\n",
       "      <td>CANCELADA</td>\n",
       "      <td>2000-08-01</td>\n",
       "      <td>NaN</td>\n",
       "      <td>...</td>\n",
       "      <td>NaN</td>\n",
       "      <td>NaN</td>\n",
       "      <td>NaN</td>\n",
       "      <td>NaN</td>\n",
       "      <td>NaN</td>\n",
       "      <td>NaN</td>\n",
       "      <td>NaN</td>\n",
       "      <td>NaN</td>\n",
       "      <td>NaN</td>\n",
       "      <td>NaN</td>\n",
       "    </tr>\n",
       "    <tr>\n",
       "      <th>1</th>\n",
       "      <td>FACFIF</td>\n",
       "      <td>00.000.731/0001-37</td>\n",
       "      <td>ITAMARITI CASH FUNDO APLICACAO QUOTAS FDOS INV...</td>\n",
       "      <td>2003-04-30</td>\n",
       "      <td>1994-05-18</td>\n",
       "      <td>40681.0</td>\n",
       "      <td>1996-01-26</td>\n",
       "      <td>CANCELADA</td>\n",
       "      <td>1996-01-26</td>\n",
       "      <td>NaN</td>\n",
       "      <td>...</td>\n",
       "      <td>NaN</td>\n",
       "      <td>NaN</td>\n",
       "      <td>NaN</td>\n",
       "      <td>NaN</td>\n",
       "      <td>NaN</td>\n",
       "      <td>NaN</td>\n",
       "      <td>NaN</td>\n",
       "      <td>NaN</td>\n",
       "      <td>NaN</td>\n",
       "      <td>NaN</td>\n",
       "    </tr>\n",
       "    <tr>\n",
       "      <th>2</th>\n",
       "      <td>FACFIF</td>\n",
       "      <td>00.000.732/0001-81</td>\n",
       "      <td>FUNDO APLIC. QUOTAS DE F.I. SANTANDER CURTO PRAZO</td>\n",
       "      <td>2003-04-30</td>\n",
       "      <td>1994-05-24</td>\n",
       "      <td>27.0</td>\n",
       "      <td>1999-09-03</td>\n",
       "      <td>CANCELADA</td>\n",
       "      <td>1999-09-03</td>\n",
       "      <td>NaN</td>\n",
       "      <td>...</td>\n",
       "      <td>NaN</td>\n",
       "      <td>NaN</td>\n",
       "      <td>NaN</td>\n",
       "      <td>NaN</td>\n",
       "      <td>NaN</td>\n",
       "      <td>NaN</td>\n",
       "      <td>NaN</td>\n",
       "      <td>NaN</td>\n",
       "      <td>NaN</td>\n",
       "      <td>NaN</td>\n",
       "    </tr>\n",
       "    <tr>\n",
       "      <th>3</th>\n",
       "      <td>FACFIF</td>\n",
       "      <td>00.000.740/0001-28</td>\n",
       "      <td>FUNDO DE APLIC EM QUOTAS DE FUNDOS DE INV BMC ...</td>\n",
       "      <td>2003-04-30</td>\n",
       "      <td>1994-05-23</td>\n",
       "      <td>40690.0</td>\n",
       "      <td>1996-06-10</td>\n",
       "      <td>CANCELADA</td>\n",
       "      <td>1996-06-10</td>\n",
       "      <td>NaN</td>\n",
       "      <td>...</td>\n",
       "      <td>NaN</td>\n",
       "      <td>NaN</td>\n",
       "      <td>NaN</td>\n",
       "      <td>NaN</td>\n",
       "      <td>NaN</td>\n",
       "      <td>NaN</td>\n",
       "      <td>NaN</td>\n",
       "      <td>NaN</td>\n",
       "      <td>NaN</td>\n",
       "      <td>NaN</td>\n",
       "    </tr>\n",
       "    <tr>\n",
       "      <th>4</th>\n",
       "      <td>FACFIF</td>\n",
       "      <td>00.000.749/0001-39</td>\n",
       "      <td>BALANCE FUNDO APLICACAO QUOTAS FUNDO INVESTIME...</td>\n",
       "      <td>2003-04-30</td>\n",
       "      <td>1994-05-12</td>\n",
       "      <td>35.0</td>\n",
       "      <td>2000-06-26</td>\n",
       "      <td>CANCELADA</td>\n",
       "      <td>2000-06-26</td>\n",
       "      <td>NaN</td>\n",
       "      <td>...</td>\n",
       "      <td>NaN</td>\n",
       "      <td>NaN</td>\n",
       "      <td>NaN</td>\n",
       "      <td>NaN</td>\n",
       "      <td>NaN</td>\n",
       "      <td>NaN</td>\n",
       "      <td>NaN</td>\n",
       "      <td>NaN</td>\n",
       "      <td>NaN</td>\n",
       "      <td>NaN</td>\n",
       "    </tr>\n",
       "  </tbody>\n",
       "</table>\n",
       "<p>5 rows × 39 columns</p>\n",
       "</div>"
      ],
      "text/plain": [
       "  TP_FUNDO          CNPJ_FUNDO  \\\n",
       "0   FACFIF  00.000.684/0001-21   \n",
       "1   FACFIF  00.000.731/0001-37   \n",
       "2   FACFIF  00.000.732/0001-81   \n",
       "3   FACFIF  00.000.740/0001-28   \n",
       "4   FACFIF  00.000.749/0001-39   \n",
       "\n",
       "                                        DENOM_SOCIAL      DT_REG    DT_CONST  \\\n",
       "0  DEUTSCHE BANK FDO APLIC QUOTAS FDO INV FINANCE...  2003-04-30  1994-12-20   \n",
       "1  ITAMARITI CASH FUNDO APLICACAO QUOTAS FDOS INV...  2003-04-30  1994-05-18   \n",
       "2  FUNDO APLIC. QUOTAS DE F.I. SANTANDER CURTO PRAZO  2003-04-30  1994-05-24   \n",
       "3  FUNDO DE APLIC EM QUOTAS DE FUNDOS DE INV BMC ...  2003-04-30  1994-05-23   \n",
       "4  BALANCE FUNDO APLICACAO QUOTAS FUNDO INVESTIME...  2003-04-30  1994-05-12   \n",
       "\n",
       "    CD_CVM   DT_CANCEL        SIT  DT_INI_SIT DT_INI_ATIV  ... ADMIN  \\\n",
       "0     19.0  2000-08-01  CANCELADA  2000-08-01         NaN  ...   NaN   \n",
       "1  40681.0  1996-01-26  CANCELADA  1996-01-26         NaN  ...   NaN   \n",
       "2     27.0  1999-09-03  CANCELADA  1999-09-03         NaN  ...   NaN   \n",
       "3  40690.0  1996-06-10  CANCELADA  1996-06-10         NaN  ...   NaN   \n",
       "4     35.0  2000-06-26  CANCELADA  2000-06-26         NaN  ...   NaN   \n",
       "\n",
       "  PF_PJ_GESTOR CPF_CNPJ_GESTOR GESTOR CNPJ_AUDITOR AUDITOR CNPJ_CUSTODIANTE  \\\n",
       "0          NaN             NaN    NaN          NaN     NaN              NaN   \n",
       "1          NaN             NaN    NaN          NaN     NaN              NaN   \n",
       "2          NaN             NaN    NaN          NaN     NaN              NaN   \n",
       "3          NaN             NaN    NaN          NaN     NaN              NaN   \n",
       "4          NaN             NaN    NaN          NaN     NaN              NaN   \n",
       "\n",
       "  CUSTODIANTE CNPJ_CONTROLADOR CONTROLADOR  \n",
       "0         NaN              NaN         NaN  \n",
       "1         NaN              NaN         NaN  \n",
       "2         NaN              NaN         NaN  \n",
       "3         NaN              NaN         NaN  \n",
       "4         NaN              NaN         NaN  \n",
       "\n",
       "[5 rows x 39 columns]"
      ]
     },
     "execution_count": 5,
     "metadata": {},
     "output_type": "execute_result"
    }
   ],
   "source": [
    "info_cadastro.head()"
   ]
  },
  {
   "cell_type": "markdown",
   "id": "88490989",
   "metadata": {},
   "source": [
    "## Histórico"
   ]
  },
  {
   "cell_type": "code",
   "execution_count": 36,
   "id": "1ad06e85",
   "metadata": {
    "ExecuteTime": {
     "end_time": "2023-01-14T14:30:40.877496Z",
     "start_time": "2023-01-14T14:30:40.559147Z"
    }
   },
   "outputs": [],
   "source": [
    "# Último mês completo\n",
    "fundos_2022_12 = pd.read_csv('../data/fundos/inf_diario/inf_diario_fi_2022/inf_diario_fi_202212.csv', \n",
    "                             encoding='ISO-8859-1', sep=';')"
   ]
  },
  {
   "cell_type": "code",
   "execution_count": 41,
   "id": "3d19e6de",
   "metadata": {
    "ExecuteTime": {
     "end_time": "2023-01-14T14:32:29.287963Z",
     "start_time": "2023-01-14T14:32:29.236443Z"
    }
   },
   "outputs": [],
   "source": [
    "# Média de 1000 cotistas em Dezembro de 2022\n",
    "cnpj_valido = fundos_2022_12.groupby('CNPJ_FUNDO').mean(numeric_only=True).query('NR_COTST >= 1000').index"
   ]
  },
  {
   "cell_type": "code",
   "execution_count": 57,
   "id": "71a39b50",
   "metadata": {
    "ExecuteTime": {
     "end_time": "2023-01-14T14:46:15.626778Z",
     "start_time": "2023-01-14T14:45:31.366960Z"
    }
   },
   "outputs": [
    {
     "name": "stdout",
     "output_type": "stream",
     "text": [
      "Added file: ../data/fundos/inf_diario/inf_diario_fi_2020/inf_diario_fi_202002.csv\n",
      "Added file: ../data/fundos/inf_diario/inf_diario_fi_2020/inf_diario_fi_202010.csv\n",
      "Added file: ../data/fundos/inf_diario/inf_diario_fi_2020/inf_diario_fi_202012.csv\n",
      "Added file: ../data/fundos/inf_diario/inf_diario_fi_2020/inf_diario_fi_202009.csv\n",
      "Added file: ../data/fundos/inf_diario/inf_diario_fi_2020/inf_diario_fi_202003.csv\n",
      "Added file: ../data/fundos/inf_diario/inf_diario_fi_2020/inf_diario_fi_202004.csv\n",
      "Added file: ../data/fundos/inf_diario/inf_diario_fi_2020/inf_diario_fi_202006.csv\n",
      "Added file: ../data/fundos/inf_diario/inf_diario_fi_2020/inf_diario_fi_202007.csv\n",
      "Added file: ../data/fundos/inf_diario/inf_diario_fi_2020/inf_diario_fi_202011.csv\n",
      "Added file: ../data/fundos/inf_diario/inf_diario_fi_2020/inf_diario_fi_202005.csv\n",
      "Added file: ../data/fundos/inf_diario/inf_diario_fi_2020/inf_diario_fi_202008.csv\n",
      "Added file: ../data/fundos/inf_diario/inf_diario_fi_2020/inf_diario_fi_202001.csv\n",
      "Added file: ../data/fundos/inf_diario/inf_diario_fi_2012/inf_diario_fi_201204.csv\n",
      "Added file: ../data/fundos/inf_diario/inf_diario_fi_2012/inf_diario_fi_201208.csv\n",
      "Added file: ../data/fundos/inf_diario/inf_diario_fi_2012/inf_diario_fi_201211.csv\n",
      "Added file: ../data/fundos/inf_diario/inf_diario_fi_2012/inf_diario_fi_201206.csv\n",
      "Added file: ../data/fundos/inf_diario/inf_diario_fi_2012/inf_diario_fi_201212.csv\n",
      "Added file: ../data/fundos/inf_diario/inf_diario_fi_2012/inf_diario_fi_201201.csv\n",
      "Added file: ../data/fundos/inf_diario/inf_diario_fi_2012/inf_diario_fi_201210.csv\n",
      "Added file: ../data/fundos/inf_diario/inf_diario_fi_2012/inf_diario_fi_201205.csv\n",
      "Added file: ../data/fundos/inf_diario/inf_diario_fi_2012/inf_diario_fi_201209.csv\n",
      "Added file: ../data/fundos/inf_diario/inf_diario_fi_2012/inf_diario_fi_201207.csv\n",
      "Added file: ../data/fundos/inf_diario/inf_diario_fi_2012/inf_diario_fi_201202.csv\n",
      "Added file: ../data/fundos/inf_diario/inf_diario_fi_2012/inf_diario_fi_201203.csv\n",
      "Added file: ../data/fundos/inf_diario/inf_diario_fi_2022/inf_diario_fi_202202.csv\n",
      "Added file: ../data/fundos/inf_diario/inf_diario_fi_2022/inf_diario_fi_202208.csv\n",
      "Added file: ../data/fundos/inf_diario/inf_diario_fi_2022/inf_diario_fi_202212.csv\n",
      "Added file: ../data/fundos/inf_diario/inf_diario_fi_2022/inf_diario_fi_202211.csv\n",
      "Added file: ../data/fundos/inf_diario/inf_diario_fi_2022/inf_diario_fi_202205.csv\n",
      "Added file: ../data/fundos/inf_diario/inf_diario_fi_2022/inf_diario_fi_202210.csv\n",
      "Added file: ../data/fundos/inf_diario/inf_diario_fi_2022/inf_diario_fi_202206.csv\n",
      "Added file: ../data/fundos/inf_diario/inf_diario_fi_2022/inf_diario_fi_202203.csv\n",
      "Added file: ../data/fundos/inf_diario/inf_diario_fi_2022/inf_diario_fi_202209.csv\n",
      "Added file: ../data/fundos/inf_diario/inf_diario_fi_2022/inf_diario_fi_202201.csv\n",
      "Added file: ../data/fundos/inf_diario/inf_diario_fi_2022/inf_diario_fi_202204.csv\n",
      "Added file: ../data/fundos/inf_diario/inf_diario_fi_2022/inf_diario_fi_202207.csv\n",
      "Added file: ../data/fundos/inf_diario/inf_diario_fi_2007/inf_diario_fi_200712.csv\n",
      "Added file: ../data/fundos/inf_diario/inf_diario_fi_2007/inf_diario_fi_200706.csv\n",
      "Added file: ../data/fundos/inf_diario/inf_diario_fi_2007/inf_diario_fi_200704.csv\n",
      "Added file: ../data/fundos/inf_diario/inf_diario_fi_2007/inf_diario_fi_200711.csv\n",
      "Added file: ../data/fundos/inf_diario/inf_diario_fi_2007/inf_diario_fi_200707.csv\n",
      "Added file: ../data/fundos/inf_diario/inf_diario_fi_2007/inf_diario_fi_200703.csv\n",
      "Added file: ../data/fundos/inf_diario/inf_diario_fi_2007/inf_diario_fi_200709.csv\n",
      "Added file: ../data/fundos/inf_diario/inf_diario_fi_2007/inf_diario_fi_200708.csv\n",
      "Added file: ../data/fundos/inf_diario/inf_diario_fi_2007/inf_diario_fi_200705.csv\n",
      "Added file: ../data/fundos/inf_diario/inf_diario_fi_2007/inf_diario_fi_200701.csv\n",
      "Added file: ../data/fundos/inf_diario/inf_diario_fi_2007/inf_diario_fi_200702.csv\n",
      "Added file: ../data/fundos/inf_diario/inf_diario_fi_2007/inf_diario_fi_200710.csv\n",
      "Added file: ../data/fundos/inf_diario/inf_diario_fi_2021/inf_diario_fi_202101.csv\n",
      "Added file: ../data/fundos/inf_diario/inf_diario_fi_2021/inf_diario_fi_202111.csv\n",
      "Added file: ../data/fundos/inf_diario/inf_diario_fi_2021/inf_diario_fi_202104.csv\n",
      "Added file: ../data/fundos/inf_diario/inf_diario_fi_2021/inf_diario_fi_202106.csv\n",
      "Added file: ../data/fundos/inf_diario/inf_diario_fi_2021/inf_diario_fi_202107.csv\n",
      "Added file: ../data/fundos/inf_diario/inf_diario_fi_2021/inf_diario_fi_202102.csv\n",
      "Added file: ../data/fundos/inf_diario/inf_diario_fi_2021/inf_diario_fi_202112.csv\n",
      "Added file: ../data/fundos/inf_diario/inf_diario_fi_2021/inf_diario_fi_202109.csv\n",
      "Added file: ../data/fundos/inf_diario/inf_diario_fi_2021/inf_diario_fi_202108.csv\n",
      "Added file: ../data/fundos/inf_diario/inf_diario_fi_2021/inf_diario_fi_202103.csv\n",
      "Added file: ../data/fundos/inf_diario/inf_diario_fi_2021/inf_diario_fi_202110.csv\n",
      "Added file: ../data/fundos/inf_diario/inf_diario_fi_2021/inf_diario_fi_202105.csv\n",
      "Added file: ../data/fundos/inf_diario/inf_diario_fi_2010/inf_diario_fi_201012.csv\n",
      "Added file: ../data/fundos/inf_diario/inf_diario_fi_2010/inf_diario_fi_201004.csv\n",
      "Added file: ../data/fundos/inf_diario/inf_diario_fi_2010/inf_diario_fi_201010.csv\n",
      "Added file: ../data/fundos/inf_diario/inf_diario_fi_2010/inf_diario_fi_201008.csv\n",
      "Added file: ../data/fundos/inf_diario/inf_diario_fi_2010/inf_diario_fi_201002.csv\n",
      "Added file: ../data/fundos/inf_diario/inf_diario_fi_2010/inf_diario_fi_201003.csv\n",
      "Added file: ../data/fundos/inf_diario/inf_diario_fi_2010/inf_diario_fi_201005.csv\n",
      "Added file: ../data/fundos/inf_diario/inf_diario_fi_2010/inf_diario_fi_201009.csv\n",
      "Added file: ../data/fundos/inf_diario/inf_diario_fi_2010/inf_diario_fi_201006.csv\n",
      "Added file: ../data/fundos/inf_diario/inf_diario_fi_2010/inf_diario_fi_201001.csv\n",
      "Added file: ../data/fundos/inf_diario/inf_diario_fi_2010/inf_diario_fi_201011.csv\n",
      "Added file: ../data/fundos/inf_diario/inf_diario_fi_2010/inf_diario_fi_201007.csv\n",
      "Added file: ../data/fundos/inf_diario/inf_diario_fi_2018/inf_diario_fi_201803.csv\n",
      "Added file: ../data/fundos/inf_diario/inf_diario_fi_2018/inf_diario_fi_201808.csv\n",
      "Added file: ../data/fundos/inf_diario/inf_diario_fi_2018/inf_diario_fi_201802.csv\n",
      "Added file: ../data/fundos/inf_diario/inf_diario_fi_2018/inf_diario_fi_201809.csv\n",
      "Added file: ../data/fundos/inf_diario/inf_diario_fi_2018/inf_diario_fi_201807.csv\n",
      "Added file: ../data/fundos/inf_diario/inf_diario_fi_2018/inf_diario_fi_201806.csv\n",
      "Added file: ../data/fundos/inf_diario/inf_diario_fi_2018/inf_diario_fi_201810.csv\n",
      "Added file: ../data/fundos/inf_diario/inf_diario_fi_2018/inf_diario_fi_201805.csv\n",
      "Added file: ../data/fundos/inf_diario/inf_diario_fi_2018/inf_diario_fi_201804.csv\n",
      "Added file: ../data/fundos/inf_diario/inf_diario_fi_2018/inf_diario_fi_201801.csv\n",
      "Added file: ../data/fundos/inf_diario/inf_diario_fi_2018/inf_diario_fi_201812.csv\n",
      "Added file: ../data/fundos/inf_diario/inf_diario_fi_2018/inf_diario_fi_201811.csv\n",
      "Added file: ../data/fundos/inf_diario/inf_diario_fi_2006/inf_diario_fi_200610.csv\n",
      "Added file: ../data/fundos/inf_diario/inf_diario_fi_2006/inf_diario_fi_200612.csv\n",
      "Added file: ../data/fundos/inf_diario/inf_diario_fi_2006/inf_diario_fi_200606.csv\n",
      "Added file: ../data/fundos/inf_diario/inf_diario_fi_2006/inf_diario_fi_200608.csv\n",
      "Added file: ../data/fundos/inf_diario/inf_diario_fi_2006/inf_diario_fi_200602.csv\n",
      "Added file: ../data/fundos/inf_diario/inf_diario_fi_2006/inf_diario_fi_200604.csv\n",
      "Added file: ../data/fundos/inf_diario/inf_diario_fi_2006/inf_diario_fi_200611.csv\n",
      "Added file: ../data/fundos/inf_diario/inf_diario_fi_2006/inf_diario_fi_200607.csv\n",
      "Added file: ../data/fundos/inf_diario/inf_diario_fi_2006/inf_diario_fi_200609.csv\n",
      "Added file: ../data/fundos/inf_diario/inf_diario_fi_2006/inf_diario_fi_200601.csv\n",
      "Added file: ../data/fundos/inf_diario/inf_diario_fi_2006/inf_diario_fi_200605.csv\n",
      "Added file: ../data/fundos/inf_diario/inf_diario_fi_2006/inf_diario_fi_200603.csv\n",
      "Added file: ../data/fundos/inf_diario/inf_diario_fi_2019/inf_diario_fi_201906.csv\n",
      "Added file: ../data/fundos/inf_diario/inf_diario_fi_2019/inf_diario_fi_201901.csv\n",
      "Added file: ../data/fundos/inf_diario/inf_diario_fi_2019/inf_diario_fi_201902.csv\n",
      "Added file: ../data/fundos/inf_diario/inf_diario_fi_2019/inf_diario_fi_201905.csv\n"
     ]
    },
    {
     "name": "stdout",
     "output_type": "stream",
     "text": [
      "Added file: ../data/fundos/inf_diario/inf_diario_fi_2019/inf_diario_fi_201912.csv\n",
      "Added file: ../data/fundos/inf_diario/inf_diario_fi_2019/inf_diario_fi_201907.csv\n",
      "Added file: ../data/fundos/inf_diario/inf_diario_fi_2019/inf_diario_fi_201909.csv\n",
      "Added file: ../data/fundos/inf_diario/inf_diario_fi_2019/inf_diario_fi_201908.csv\n",
      "Added file: ../data/fundos/inf_diario/inf_diario_fi_2019/inf_diario_fi_201904.csv\n",
      "Added file: ../data/fundos/inf_diario/inf_diario_fi_2019/inf_diario_fi_201910.csv\n",
      "Added file: ../data/fundos/inf_diario/inf_diario_fi_2019/inf_diario_fi_201903.csv\n",
      "Added file: ../data/fundos/inf_diario/inf_diario_fi_2019/inf_diario_fi_201911.csv\n",
      "Added file: ../data/fundos/inf_diario/inf_diario_fi_2011/inf_diario_fi_201107.csv\n",
      "Added file: ../data/fundos/inf_diario/inf_diario_fi_2011/inf_diario_fi_201106.csv\n",
      "Added file: ../data/fundos/inf_diario/inf_diario_fi_2011/inf_diario_fi_201108.csv\n",
      "Added file: ../data/fundos/inf_diario/inf_diario_fi_2011/inf_diario_fi_201105.csv\n",
      "Added file: ../data/fundos/inf_diario/inf_diario_fi_2011/inf_diario_fi_201104.csv\n",
      "Added file: ../data/fundos/inf_diario/inf_diario_fi_2011/inf_diario_fi_201110.csv\n",
      "Added file: ../data/fundos/inf_diario/inf_diario_fi_2011/inf_diario_fi_201112.csv\n",
      "Added file: ../data/fundos/inf_diario/inf_diario_fi_2011/inf_diario_fi_201102.csv\n",
      "Added file: ../data/fundos/inf_diario/inf_diario_fi_2011/inf_diario_fi_201111.csv\n",
      "Added file: ../data/fundos/inf_diario/inf_diario_fi_2011/inf_diario_fi_201109.csv\n",
      "Added file: ../data/fundos/inf_diario/inf_diario_fi_2011/inf_diario_fi_201101.csv\n",
      "Added file: ../data/fundos/inf_diario/inf_diario_fi_2011/inf_diario_fi_201103.csv\n",
      "Added file: ../data/fundos/inf_diario/inf_diario_fi_2017/inf_diario_fi_201710.csv\n",
      "Added file: ../data/fundos/inf_diario/inf_diario_fi_2017/inf_diario_fi_201704.csv\n",
      "Added file: ../data/fundos/inf_diario/inf_diario_fi_2017/inf_diario_fi_201701.csv\n",
      "Added file: ../data/fundos/inf_diario/inf_diario_fi_2017/inf_diario_fi_201709.csv\n",
      "Added file: ../data/fundos/inf_diario/inf_diario_fi_2017/inf_diario_fi_201708.csv\n",
      "Added file: ../data/fundos/inf_diario/inf_diario_fi_2017/inf_diario_fi_201705.csv\n",
      "Added file: ../data/fundos/inf_diario/inf_diario_fi_2017/inf_diario_fi_201702.csv\n",
      "Added file: ../data/fundos/inf_diario/inf_diario_fi_2017/inf_diario_fi_201706.csv\n",
      "Added file: ../data/fundos/inf_diario/inf_diario_fi_2017/inf_diario_fi_201703.csv\n",
      "Added file: ../data/fundos/inf_diario/inf_diario_fi_2017/inf_diario_fi_201711.csv\n",
      "Added file: ../data/fundos/inf_diario/inf_diario_fi_2017/inf_diario_fi_201707.csv\n",
      "Added file: ../data/fundos/inf_diario/inf_diario_fi_2017/inf_diario_fi_201712.csv\n",
      "Added file: ../data/fundos/inf_diario/inf_diario_fi_2000_2004/inf_diario_fi_2000.csv\n",
      "Added file: ../data/fundos/inf_diario/inf_diario_fi_2000_2004/inf_diario_fi_2002.csv\n",
      "Added file: ../data/fundos/inf_diario/inf_diario_fi_2000_2004/inf_diario_fi_2004.csv\n",
      "Added file: ../data/fundos/inf_diario/inf_diario_fi_2000_2004/inf_diario_fi_2001.csv\n",
      "Added file: ../data/fundos/inf_diario/inf_diario_fi_2000_2004/inf_diario_fi_2003.csv\n",
      "Added file: ../data/fundos/inf_diario/inf_diario_fi_2015/inf_diario_fi_201504.csv\n",
      "Added file: ../data/fundos/inf_diario/inf_diario_fi_2015/inf_diario_fi_201508.csv\n",
      "Added file: ../data/fundos/inf_diario/inf_diario_fi_2015/inf_diario_fi_201511.csv\n",
      "Added file: ../data/fundos/inf_diario/inf_diario_fi_2015/inf_diario_fi_201506.csv\n",
      "Added file: ../data/fundos/inf_diario/inf_diario_fi_2015/inf_diario_fi_201512.csv\n",
      "Added file: ../data/fundos/inf_diario/inf_diario_fi_2015/inf_diario_fi_201503.csv\n",
      "Added file: ../data/fundos/inf_diario/inf_diario_fi_2015/inf_diario_fi_201509.csv\n",
      "Added file: ../data/fundos/inf_diario/inf_diario_fi_2015/inf_diario_fi_201510.csv\n",
      "Added file: ../data/fundos/inf_diario/inf_diario_fi_2015/inf_diario_fi_201505.csv\n",
      "Added file: ../data/fundos/inf_diario/inf_diario_fi_2015/inf_diario_fi_201501.csv\n",
      "Added file: ../data/fundos/inf_diario/inf_diario_fi_2015/inf_diario_fi_201502.csv\n",
      "Added file: ../data/fundos/inf_diario/inf_diario_fi_2015/inf_diario_fi_201507.csv\n",
      "Added file: ../data/fundos/inf_diario/inf_diario_fi_2013/inf_diario_fi_201303.csv\n",
      "Added file: ../data/fundos/inf_diario/inf_diario_fi_2013/inf_diario_fi_201302.csv\n",
      "Added file: ../data/fundos/inf_diario/inf_diario_fi_2013/inf_diario_fi_201307.csv\n",
      "Added file: ../data/fundos/inf_diario/inf_diario_fi_2013/inf_diario_fi_201305.csv\n",
      "Added file: ../data/fundos/inf_diario/inf_diario_fi_2013/inf_diario_fi_201308.csv\n",
      "Added file: ../data/fundos/inf_diario/inf_diario_fi_2013/inf_diario_fi_201311.csv\n",
      "Added file: ../data/fundos/inf_diario/inf_diario_fi_2013/inf_diario_fi_201301.csv\n",
      "Added file: ../data/fundos/inf_diario/inf_diario_fi_2013/inf_diario_fi_201309.csv\n",
      "Added file: ../data/fundos/inf_diario/inf_diario_fi_2013/inf_diario_fi_201312.csv\n",
      "Added file: ../data/fundos/inf_diario/inf_diario_fi_2013/inf_diario_fi_201304.csv\n",
      "Added file: ../data/fundos/inf_diario/inf_diario_fi_2013/inf_diario_fi_201310.csv\n",
      "Added file: ../data/fundos/inf_diario/inf_diario_fi_2013/inf_diario_fi_201306.csv\n",
      "Added file: ../data/fundos/inf_diario/inf_diario_fi_2005/inf_diario_fi_200501.csv\n",
      "Added file: ../data/fundos/inf_diario/inf_diario_fi_2005/inf_diario_fi_200505.csv\n",
      "Added file: ../data/fundos/inf_diario/inf_diario_fi_2005/inf_diario_fi_200503.csv\n",
      "Added file: ../data/fundos/inf_diario/inf_diario_fi_2005/inf_diario_fi_200511.csv\n",
      "Added file: ../data/fundos/inf_diario/inf_diario_fi_2005/inf_diario_fi_200510.csv\n",
      "Added file: ../data/fundos/inf_diario/inf_diario_fi_2005/inf_diario_fi_200502.csv\n",
      "Added file: ../data/fundos/inf_diario/inf_diario_fi_2005/inf_diario_fi_200506.csv\n",
      "Added file: ../data/fundos/inf_diario/inf_diario_fi_2005/inf_diario_fi_200504.csv\n",
      "Added file: ../data/fundos/inf_diario/inf_diario_fi_2005/inf_diario_fi_200507.csv\n",
      "Added file: ../data/fundos/inf_diario/inf_diario_fi_2005/inf_diario_fi_200512.csv\n",
      "Added file: ../data/fundos/inf_diario/inf_diario_fi_2005/inf_diario_fi_200509.csv\n",
      "Added file: ../data/fundos/inf_diario/inf_diario_fi_2005/inf_diario_fi_200508.csv\n",
      "Added file: ../data/fundos/inf_diario/inf_diario_fi_2008/inf_diario_fi_200803.csv\n",
      "Added file: ../data/fundos/inf_diario/inf_diario_fi_2008/inf_diario_fi_200802.csv\n",
      "Added file: ../data/fundos/inf_diario/inf_diario_fi_2008/inf_diario_fi_200807.csv\n",
      "Added file: ../data/fundos/inf_diario/inf_diario_fi_2008/inf_diario_fi_200812.csv\n",
      "Added file: ../data/fundos/inf_diario/inf_diario_fi_2008/inf_diario_fi_200801.csv\n",
      "Added file: ../data/fundos/inf_diario/inf_diario_fi_2008/inf_diario_fi_200810.csv\n",
      "Added file: ../data/fundos/inf_diario/inf_diario_fi_2008/inf_diario_fi_200806.csv\n",
      "Added file: ../data/fundos/inf_diario/inf_diario_fi_2008/inf_diario_fi_200809.csv\n",
      "Added file: ../data/fundos/inf_diario/inf_diario_fi_2008/inf_diario_fi_200805.csv\n",
      "Added file: ../data/fundos/inf_diario/inf_diario_fi_2008/inf_diario_fi_200804.csv\n",
      "Added file: ../data/fundos/inf_diario/inf_diario_fi_2008/inf_diario_fi_200808.csv\n",
      "Added file: ../data/fundos/inf_diario/inf_diario_fi_2008/inf_diario_fi_200811.csv\n",
      "Added file: ../data/fundos/inf_diario/inf_diario_fi_2014/inf_diario_fi_201403.csv\n",
      "Added file: ../data/fundos/inf_diario/inf_diario_fi_2014/inf_diario_fi_201404.csv\n",
      "Added file: ../data/fundos/inf_diario/inf_diario_fi_2014/inf_diario_fi_201412.csv\n",
      "Added file: ../data/fundos/inf_diario/inf_diario_fi_2014/inf_diario_fi_201407.csv\n",
      "Added file: ../data/fundos/inf_diario/inf_diario_fi_2014/inf_diario_fi_201406.csv\n",
      "Added file: ../data/fundos/inf_diario/inf_diario_fi_2014/inf_diario_fi_201410.csv\n",
      "Added file: ../data/fundos/inf_diario/inf_diario_fi_2014/inf_diario_fi_201401.csv\n",
      "Added file: ../data/fundos/inf_diario/inf_diario_fi_2014/inf_diario_fi_201408.csv\n",
      "Added file: ../data/fundos/inf_diario/inf_diario_fi_2014/inf_diario_fi_201409.csv\n",
      "Added file: ../data/fundos/inf_diario/inf_diario_fi_2014/inf_diario_fi_201411.csv\n",
      "Added file: ../data/fundos/inf_diario/inf_diario_fi_2014/inf_diario_fi_201402.csv\n",
      "Added file: ../data/fundos/inf_diario/inf_diario_fi_2014/inf_diario_fi_201405.csv\n",
      "Added file: ../data/fundos/inf_diario/inf_diario_fi_2009/inf_diario_fi_200904.csv\n",
      "Added file: ../data/fundos/inf_diario/inf_diario_fi_2009/inf_diario_fi_200902.csv\n",
      "Added file: ../data/fundos/inf_diario/inf_diario_fi_2009/inf_diario_fi_200908.csv\n"
     ]
    },
    {
     "name": "stdout",
     "output_type": "stream",
     "text": [
      "Added file: ../data/fundos/inf_diario/inf_diario_fi_2009/inf_diario_fi_200905.csv\n",
      "Added file: ../data/fundos/inf_diario/inf_diario_fi_2009/inf_diario_fi_200912.csv\n",
      "Added file: ../data/fundos/inf_diario/inf_diario_fi_2009/inf_diario_fi_200903.csv\n",
      "Added file: ../data/fundos/inf_diario/inf_diario_fi_2009/inf_diario_fi_200901.csv\n",
      "Added file: ../data/fundos/inf_diario/inf_diario_fi_2009/inf_diario_fi_200906.csv\n",
      "Added file: ../data/fundos/inf_diario/inf_diario_fi_2009/inf_diario_fi_200907.csv\n",
      "Added file: ../data/fundos/inf_diario/inf_diario_fi_2009/inf_diario_fi_200911.csv\n",
      "Added file: ../data/fundos/inf_diario/inf_diario_fi_2009/inf_diario_fi_200910.csv\n",
      "Added file: ../data/fundos/inf_diario/inf_diario_fi_2009/inf_diario_fi_200909.csv\n",
      "Added file: ../data/fundos/inf_diario/inf_diario_fi_2016/inf_diario_fi_201606.csv\n",
      "Added file: ../data/fundos/inf_diario/inf_diario_fi_2016/inf_diario_fi_201607.csv\n",
      "Added file: ../data/fundos/inf_diario/inf_diario_fi_2016/inf_diario_fi_201601.csv\n",
      "Added file: ../data/fundos/inf_diario/inf_diario_fi_2016/inf_diario_fi_201609.csv\n",
      "Added file: ../data/fundos/inf_diario/inf_diario_fi_2016/inf_diario_fi_201610.csv\n",
      "Added file: ../data/fundos/inf_diario/inf_diario_fi_2016/inf_diario_fi_201603.csv\n",
      "Added file: ../data/fundos/inf_diario/inf_diario_fi_2016/inf_diario_fi_201605.csv\n",
      "Added file: ../data/fundos/inf_diario/inf_diario_fi_2016/inf_diario_fi_201602.csv\n",
      "Added file: ../data/fundos/inf_diario/inf_diario_fi_2016/inf_diario_fi_201611.csv\n",
      "Added file: ../data/fundos/inf_diario/inf_diario_fi_2016/inf_diario_fi_201608.csv\n",
      "Added file: ../data/fundos/inf_diario/inf_diario_fi_2016/inf_diario_fi_201612.csv\n",
      "Added file: ../data/fundos/inf_diario/inf_diario_fi_2016/inf_diario_fi_201604.csv\n"
     ]
    }
   ],
   "source": [
    "# Leitura do histórico\n",
    "df_fundos = pd.DataFrame()\n",
    "paths = glob.glob('../data/fundos/inf_diario/*')\n",
    "for path in paths:\n",
    "    files = glob.glob(f'{path}/*.csv')\n",
    "    for file in files:\n",
    "        df_temp = pd.read_csv(file, encoding='ISO-8859-1', sep=';')\n",
    "        df_temp = df_temp[df_temp['CNPJ_FUNDO'].isin(cnpj_valido)]\n",
    "        df_fundos = pd.concat([df_fundos, df_temp])\n",
    "        print('Added file: ' + file)"
   ]
  },
  {
   "cell_type": "code",
   "execution_count": 61,
   "id": "5eb16d48",
   "metadata": {
    "ExecuteTime": {
     "end_time": "2023-01-14T14:47:36.233353Z",
     "start_time": "2023-01-14T14:47:36.037518Z"
    }
   },
   "outputs": [],
   "source": [
    "# Conversão de data\n",
    "df_fundos['DT_COMPTC'] = pd.to_datetime(df_fundos['DT_COMPTC'])"
   ]
  },
  {
   "cell_type": "code",
   "execution_count": 65,
   "id": "f3bf4ae3",
   "metadata": {
    "ExecuteTime": {
     "end_time": "2023-01-14T14:50:09.823151Z",
     "start_time": "2023-01-14T14:50:09.071702Z"
    }
   },
   "outputs": [],
   "source": [
    "# Adição da denominação social\n",
    "df_fundos_nominacao = df_fundos.merge(info_cadastro[['CNPJ_FUNDO', 'DENOM_SOCIAL']], how='left', on='CNPJ_FUNDO')"
   ]
  },
  {
   "cell_type": "code",
   "execution_count": 68,
   "id": "07b9ffe9",
   "metadata": {
    "ExecuteTime": {
     "end_time": "2023-01-14T14:51:34.539503Z",
     "start_time": "2023-01-14T14:51:33.447425Z"
    }
   },
   "outputs": [],
   "source": [
    "# Ordenando pela data e dnominação social\n",
    "df_fundos_nominacao.sort_values(['DT_COMPTC', 'DENOM_SOCIAL'], inplace=True)"
   ]
  },
  {
   "cell_type": "code",
   "execution_count": 81,
   "id": "a5173ab2",
   "metadata": {
    "ExecuteTime": {
     "end_time": "2023-01-14T15:01:09.189558Z",
     "start_time": "2023-01-14T15:01:08.477282Z"
    }
   },
   "outputs": [],
   "source": [
    "# Exclusão dos fundos com denominação social igual a nan\n",
    "df_fundos_nominacao_valido = df_fundos_nominacao[~df_fundos_nominacao['DENOM_SOCIAL'].isna()].copy()"
   ]
  },
  {
   "cell_type": "code",
   "execution_count": 84,
   "id": "3c8e9a13",
   "metadata": {
    "ExecuteTime": {
     "end_time": "2023-01-14T15:02:02.106741Z",
     "start_time": "2023-01-14T15:02:01.948932Z"
    }
   },
   "outputs": [],
   "source": [
    "# Histórico exemplo\n",
    "aux = df_fundos_nominacao_valido[df_fundos_nominacao_valido['CNPJ_FUNDO'] == '00.601.692/0001-23']"
   ]
  },
  {
   "cell_type": "code",
   "execution_count": 88,
   "id": "74aba1b0",
   "metadata": {
    "ExecuteTime": {
     "end_time": "2023-01-14T15:03:00.350829Z",
     "start_time": "2023-01-14T15:03:00.230580Z"
    }
   },
   "outputs": [
    {
     "data": {
      "text/plain": [
       "[<matplotlib.lines.Line2D at 0x7fbf3b5578e0>]"
      ]
     },
     "execution_count": 88,
     "metadata": {},
     "output_type": "execute_result"
    },
    {
     "data": {
      "image/png": "[encoded data removed]",
      "text/plain": [
       "<Figure size 640x480 with 1 Axes>"
      ]
     },
     "metadata": {},
     "output_type": "display_data"
    }
   ],
   "source": [
    "plt.plot(aux['DT_COMPTC'], aux['VL_QUOTA'])"
   ]
  },
  {
   "cell_type": "markdown",
   "id": "88ca2086",
   "metadata": {},
   "source": [
    "# Data Output"
   ]
  },
  {
   "cell_type": "code",
   "execution_count": 98,
   "id": "b50f09ae",
   "metadata": {
    "ExecuteTime": {
     "end_time": "2023-01-14T15:09:14.049667Z",
     "start_time": "2023-01-14T15:09:14.046838Z"
    }
   },
   "outputs": [],
   "source": [
    "# Renomeação das colunas\n",
    "df_fundos_nominacao_valido.columns = df_fundos_nominacao_valido.columns.str.lower()"
   ]
  },
  {
   "cell_type": "code",
   "execution_count": 101,
   "id": "95d1484c",
   "metadata": {
    "ExecuteTime": {
     "end_time": "2023-01-14T15:12:56.273377Z",
     "start_time": "2023-01-14T15:12:37.630294Z"
    }
   },
   "outputs": [],
   "source": [
    "# Seleção e ordenação das columnas\n",
    "df_fundos_nominacao_valido = df_fundos_nominacao_valido[['dt_comptc', 'cnpj_fundo', 'denom_social', 'vl_quota', \n",
    "                                                         'vl_patrim_liq', 'captc_dia', 'resg_dia', \n",
    "                                                         'nr_cotst']].to_csv('../data/fundos.csv', index=False)"
   ]
  },
  {
   "cell_type": "code",
   "execution_count": null,
   "id": "3ed89003",
   "metadata": {},
   "outputs": [],
   "source": [
    "# Geração do arquivo histórico até 2022-12\n",
    "df_fundos_nominacao_valido.to_csv('../data/fundos.csv', index=False)"
   ]
  }
 ],
 "metadata": {
  "kernelspec": {
   "display_name": "Python 3 (ipykernel)",
   "language": "python",
   "name": "python3"
  },
  "language_info": {
   "codemirror_mode": {
    "name": "ipython",
    "version": 3
   },
   "file_extension": ".py",
   "mimetype": "text/x-python",
   "name": "python",
   "nbconvert_exporter": "python",
   "pygments_lexer": "ipython3",
   "version": "3.10.6"
  },
  "toc": {
   "base_numbering": 1,
   "nav_menu": {},
   "number_sections": true,
   "sideBar": true,
   "skip_h1_title": false,
   "title_cell": "Table of Contents",
   "title_sidebar": "Contents",
   "toc_cell": false,
   "toc_position": {
    "height": "calc(100% - 180px)",
    "left": "10px",
    "top": "150px",
    "width": "195.333px"
   },
   "toc_section_display": true,
   "toc_window_display": true
  }
 },
 "nbformat": 4,
 "nbformat_minor": 5
}
