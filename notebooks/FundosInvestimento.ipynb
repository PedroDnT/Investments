{
 "cells": [
  {
   "cell_type": "markdown",
   "id": "791a8cea",
   "metadata": {},
   "source": [
    "# Imports"
   ]
  },
  {
   "cell_type": "code",
   "execution_count": 28,
   "id": "1b8de1ea",
   "metadata": {
    "ExecuteTime": {
     "end_time": "2023-01-13T13:32:00.086613Z",
     "start_time": "2023-01-13T13:32:00.084658Z"
    }
   },
   "outputs": [],
   "source": [
    "import pandas as pd\n",
    "import matplotlib.pyplot as plt\n",
    "import glob"
   ]
  },
  {
   "cell_type": "markdown",
   "id": "efaf26a6",
   "metadata": {},
   "source": [
    "# Data"
   ]
  },
  {
   "cell_type": "code",
   "execution_count": null,
   "id": "71a39b50",
   "metadata": {
    "ExecuteTime": {
     "start_time": "2023-01-13T14:06:55.614Z"
    }
   },
   "outputs": [
    {
     "name": "stdout",
     "output_type": "stream",
     "text": [
      "Added file: ../data/fundos/inf_diario/inf_diario_fi_2020/inf_diario_fi_202002.csv\n",
      "Added file: ../data/fundos/inf_diario/inf_diario_fi_2020/inf_diario_fi_202010.csv\n",
      "Added file: ../data/fundos/inf_diario/inf_diario_fi_2020/inf_diario_fi_202012.csv\n",
      "Added file: ../data/fundos/inf_diario/inf_diario_fi_2020/inf_diario_fi_202009.csv\n",
      "Added file: ../data/fundos/inf_diario/inf_diario_fi_2020/inf_diario_fi_202003.csv\n",
      "Added file: ../data/fundos/inf_diario/inf_diario_fi_2020/inf_diario_fi_202004.csv\n",
      "Added file: ../data/fundos/inf_diario/inf_diario_fi_2020/inf_diario_fi_202006.csv\n",
      "Added file: ../data/fundos/inf_diario/inf_diario_fi_2020/inf_diario_fi_202007.csv\n",
      "Added file: ../data/fundos/inf_diario/inf_diario_fi_2020/inf_diario_fi_202011.csv\n",
      "Added file: ../data/fundos/inf_diario/inf_diario_fi_2020/inf_diario_fi_202005.csv\n",
      "Added file: ../data/fundos/inf_diario/inf_diario_fi_2020/inf_diario_fi_202008.csv\n",
      "Added file: ../data/fundos/inf_diario/inf_diario_fi_2020/inf_diario_fi_202001.csv\n",
      "Added file: ../data/fundos/inf_diario/inf_diario_fi_2012/inf_diario_fi_201204.csv\n",
      "Added file: ../data/fundos/inf_diario/inf_diario_fi_2012/inf_diario_fi_201208.csv\n",
      "Added file: ../data/fundos/inf_diario/inf_diario_fi_2012/inf_diario_fi_201211.csv\n",
      "Added file: ../data/fundos/inf_diario/inf_diario_fi_2012/inf_diario_fi_201206.csv\n",
      "Added file: ../data/fundos/inf_diario/inf_diario_fi_2012/inf_diario_fi_201212.csv\n",
      "Added file: ../data/fundos/inf_diario/inf_diario_fi_2012/inf_diario_fi_201201.csv\n",
      "Added file: ../data/fundos/inf_diario/inf_diario_fi_2012/inf_diario_fi_201210.csv\n",
      "Added file: ../data/fundos/inf_diario/inf_diario_fi_2012/inf_diario_fi_201205.csv\n",
      "Added file: ../data/fundos/inf_diario/inf_diario_fi_2012/inf_diario_fi_201209.csv\n",
      "Added file: ../data/fundos/inf_diario/inf_diario_fi_2012/inf_diario_fi_201207.csv\n",
      "Added file: ../data/fundos/inf_diario/inf_diario_fi_2012/inf_diario_fi_201202.csv\n",
      "Added file: ../data/fundos/inf_diario/inf_diario_fi_2012/inf_diario_fi_201203.csv\n",
      "Added file: ../data/fundos/inf_diario/inf_diario_fi_2007/inf_diario_fi_200712.csv\n",
      "Added file: ../data/fundos/inf_diario/inf_diario_fi_2007/inf_diario_fi_200706.csv\n",
      "Added file: ../data/fundos/inf_diario/inf_diario_fi_2007/inf_diario_fi_200704.csv\n",
      "Added file: ../data/fundos/inf_diario/inf_diario_fi_2007/inf_diario_fi_200711.csv\n",
      "Added file: ../data/fundos/inf_diario/inf_diario_fi_2007/inf_diario_fi_200707.csv\n",
      "Added file: ../data/fundos/inf_diario/inf_diario_fi_2007/inf_diario_fi_200703.csv\n",
      "Added file: ../data/fundos/inf_diario/inf_diario_fi_2007/inf_diario_fi_200709.csv\n",
      "Added file: ../data/fundos/inf_diario/inf_diario_fi_2007/inf_diario_fi_200708.csv\n",
      "Added file: ../data/fundos/inf_diario/inf_diario_fi_2007/inf_diario_fi_200705.csv\n",
      "Added file: ../data/fundos/inf_diario/inf_diario_fi_2007/inf_diario_fi_200701.csv\n",
      "Added file: ../data/fundos/inf_diario/inf_diario_fi_2007/inf_diario_fi_200702.csv\n",
      "Added file: ../data/fundos/inf_diario/inf_diario_fi_2007/inf_diario_fi_200710.csv\n",
      "Added file: ../data/fundos/inf_diario/inf_diario_fi_2010/inf_diario_fi_201012.csv\n",
      "Added file: ../data/fundos/inf_diario/inf_diario_fi_2010/inf_diario_fi_201004.csv\n",
      "Added file: ../data/fundos/inf_diario/inf_diario_fi_2010/inf_diario_fi_201010.csv\n",
      "Added file: ../data/fundos/inf_diario/inf_diario_fi_2010/inf_diario_fi_201008.csv\n",
      "Added file: ../data/fundos/inf_diario/inf_diario_fi_2010/inf_diario_fi_201002.csv\n",
      "Added file: ../data/fundos/inf_diario/inf_diario_fi_2010/inf_diario_fi_201003.csv\n",
      "Added file: ../data/fundos/inf_diario/inf_diario_fi_2010/inf_diario_fi_201005.csv\n",
      "Added file: ../data/fundos/inf_diario/inf_diario_fi_2010/inf_diario_fi_201009.csv\n",
      "Added file: ../data/fundos/inf_diario/inf_diario_fi_2010/inf_diario_fi_201006.csv\n",
      "Added file: ../data/fundos/inf_diario/inf_diario_fi_2010/inf_diario_fi_201001.csv\n",
      "Added file: ../data/fundos/inf_diario/inf_diario_fi_2010/inf_diario_fi_201011.csv\n",
      "Added file: ../data/fundos/inf_diario/inf_diario_fi_2010/inf_diario_fi_201007.csv\n",
      "Added file: ../data/fundos/inf_diario/inf_diario_fi_2018/inf_diario_fi_201803.csv\n",
      "Added file: ../data/fundos/inf_diario/inf_diario_fi_2018/inf_diario_fi_201808.csv\n",
      "Added file: ../data/fundos/inf_diario/inf_diario_fi_2018/inf_diario_fi_201802.csv\n",
      "Added file: ../data/fundos/inf_diario/inf_diario_fi_2018/inf_diario_fi_201809.csv\n",
      "Added file: ../data/fundos/inf_diario/inf_diario_fi_2018/inf_diario_fi_201807.csv\n",
      "Added file: ../data/fundos/inf_diario/inf_diario_fi_2018/inf_diario_fi_201806.csv\n",
      "Added file: ../data/fundos/inf_diario/inf_diario_fi_2018/inf_diario_fi_201810.csv\n",
      "Added file: ../data/fundos/inf_diario/inf_diario_fi_2018/inf_diario_fi_201805.csv\n",
      "Added file: ../data/fundos/inf_diario/inf_diario_fi_2018/inf_diario_fi_201804.csv\n",
      "Added file: ../data/fundos/inf_diario/inf_diario_fi_2018/inf_diario_fi_201801.csv\n",
      "Added file: ../data/fundos/inf_diario/inf_diario_fi_2018/inf_diario_fi_201812.csv\n",
      "Added file: ../data/fundos/inf_diario/inf_diario_fi_2018/inf_diario_fi_201811.csv\n",
      "Added file: ../data/fundos/inf_diario/inf_diario_fi_2006/inf_diario_fi_200610.csv\n",
      "Added file: ../data/fundos/inf_diario/inf_diario_fi_2006/inf_diario_fi_200612.csv\n",
      "Added file: ../data/fundos/inf_diario/inf_diario_fi_2006/inf_diario_fi_200606.csv\n",
      "Added file: ../data/fundos/inf_diario/inf_diario_fi_2006/inf_diario_fi_200608.csv\n",
      "Added file: ../data/fundos/inf_diario/inf_diario_fi_2006/inf_diario_fi_200602.csv\n",
      "Added file: ../data/fundos/inf_diario/inf_diario_fi_2006/inf_diario_fi_200604.csv\n",
      "Added file: ../data/fundos/inf_diario/inf_diario_fi_2006/inf_diario_fi_200611.csv\n",
      "Added file: ../data/fundos/inf_diario/inf_diario_fi_2006/inf_diario_fi_200607.csv\n",
      "Added file: ../data/fundos/inf_diario/inf_diario_fi_2006/inf_diario_fi_200609.csv\n",
      "Added file: ../data/fundos/inf_diario/inf_diario_fi_2006/inf_diario_fi_200601.csv\n",
      "Added file: ../data/fundos/inf_diario/inf_diario_fi_2006/inf_diario_fi_200605.csv\n",
      "Added file: ../data/fundos/inf_diario/inf_diario_fi_2006/inf_diario_fi_200603.csv\n",
      "Added file: ../data/fundos/inf_diario/inf_diario_fi_2019/inf_diario_fi_201906.csv\n",
      "Added file: ../data/fundos/inf_diario/inf_diario_fi_2019/inf_diario_fi_201901.csv\n",
      "Added file: ../data/fundos/inf_diario/inf_diario_fi_2019/inf_diario_fi_201902.csv\n",
      "Added file: ../data/fundos/inf_diario/inf_diario_fi_2019/inf_diario_fi_201905.csv\n",
      "Added file: ../data/fundos/inf_diario/inf_diario_fi_2019/inf_diario_fi_201912.csv\n",
      "Added file: ../data/fundos/inf_diario/inf_diario_fi_2019/inf_diario_fi_201907.csv\n",
      "Added file: ../data/fundos/inf_diario/inf_diario_fi_2019/inf_diario_fi_201909.csv\n",
      "Added file: ../data/fundos/inf_diario/inf_diario_fi_2019/inf_diario_fi_201908.csv\n",
      "Added file: ../data/fundos/inf_diario/inf_diario_fi_2019/inf_diario_fi_201904.csv\n",
      "Added file: ../data/fundos/inf_diario/inf_diario_fi_2019/inf_diario_fi_201910.csv\n",
      "Added file: ../data/fundos/inf_diario/inf_diario_fi_2019/inf_diario_fi_201903.csv\n",
      "Added file: ../data/fundos/inf_diario/inf_diario_fi_2019/inf_diario_fi_201911.csv\n",
      "Added file: ../data/fundos/inf_diario/inf_diario_fi_2011/inf_diario_fi_201107.csv\n",
      "Added file: ../data/fundos/inf_diario/inf_diario_fi_2011/inf_diario_fi_201106.csv\n",
      "Added file: ../data/fundos/inf_diario/inf_diario_fi_2011/inf_diario_fi_201108.csv\n",
      "Added file: ../data/fundos/inf_diario/inf_diario_fi_2011/inf_diario_fi_201105.csv\n",
      "Added file: ../data/fundos/inf_diario/inf_diario_fi_2011/inf_diario_fi_201104.csv\n",
      "Added file: ../data/fundos/inf_diario/inf_diario_fi_2011/inf_diario_fi_201110.csv\n",
      "Added file: ../data/fundos/inf_diario/inf_diario_fi_2011/inf_diario_fi_201112.csv\n",
      "Added file: ../data/fundos/inf_diario/inf_diario_fi_2011/inf_diario_fi_201102.csv\n",
      "Added file: ../data/fundos/inf_diario/inf_diario_fi_2011/inf_diario_fi_201111.csv\n",
      "Added file: ../data/fundos/inf_diario/inf_diario_fi_2011/inf_diario_fi_201109.csv\n",
      "Added file: ../data/fundos/inf_diario/inf_diario_fi_2011/inf_diario_fi_201101.csv\n",
      "Added file: ../data/fundos/inf_diario/inf_diario_fi_2011/inf_diario_fi_201103.csv\n",
      "Added file: ../data/fundos/inf_diario/inf_diario_fi_2017/inf_diario_fi_201710.csv\n",
      "Added file: ../data/fundos/inf_diario/inf_diario_fi_2017/inf_diario_fi_201704.csv\n",
      "Added file: ../data/fundos/inf_diario/inf_diario_fi_2017/inf_diario_fi_201701.csv\n",
      "Added file: ../data/fundos/inf_diario/inf_diario_fi_2017/inf_diario_fi_201709.csv\n"
     ]
    },
    {
     "name": "stdout",
     "output_type": "stream",
     "text": [
      "Added file: ../data/fundos/inf_diario/inf_diario_fi_2017/inf_diario_fi_201708.csv\n",
      "Added file: ../data/fundos/inf_diario/inf_diario_fi_2017/inf_diario_fi_201705.csv\n",
      "Added file: ../data/fundos/inf_diario/inf_diario_fi_2017/inf_diario_fi_201702.csv\n",
      "Added file: ../data/fundos/inf_diario/inf_diario_fi_2017/inf_diario_fi_201706.csv\n",
      "Added file: ../data/fundos/inf_diario/inf_diario_fi_2017/inf_diario_fi_201703.csv\n",
      "Added file: ../data/fundos/inf_diario/inf_diario_fi_2017/inf_diario_fi_201711.csv\n",
      "Added file: ../data/fundos/inf_diario/inf_diario_fi_2017/inf_diario_fi_201707.csv\n",
      "Added file: ../data/fundos/inf_diario/inf_diario_fi_2017/inf_diario_fi_201712.csv\n",
      "Added file: ../data/fundos/inf_diario/inf_diario_fi_2000_2004/inf_diario_fi_2000.csv\n",
      "Added file: ../data/fundos/inf_diario/inf_diario_fi_2000_2004/inf_diario_fi_2002.csv\n",
      "Added file: ../data/fundos/inf_diario/inf_diario_fi_2000_2004/inf_diario_fi_2004.csv\n",
      "Added file: ../data/fundos/inf_diario/inf_diario_fi_2000_2004/inf_diario_fi_2001.csv\n",
      "Added file: ../data/fundos/inf_diario/inf_diario_fi_2000_2004/inf_diario_fi_2003.csv\n",
      "Added file: ../data/fundos/inf_diario/inf_diario_fi_2015/inf_diario_fi_201504.csv\n",
      "Added file: ../data/fundos/inf_diario/inf_diario_fi_2015/inf_diario_fi_201508.csv\n",
      "Added file: ../data/fundos/inf_diario/inf_diario_fi_2015/inf_diario_fi_201511.csv\n",
      "Added file: ../data/fundos/inf_diario/inf_diario_fi_2015/inf_diario_fi_201506.csv\n",
      "Added file: ../data/fundos/inf_diario/inf_diario_fi_2015/inf_diario_fi_201512.csv\n",
      "Added file: ../data/fundos/inf_diario/inf_diario_fi_2015/inf_diario_fi_201503.csv\n",
      "Added file: ../data/fundos/inf_diario/inf_diario_fi_2015/inf_diario_fi_201509.csv\n",
      "Added file: ../data/fundos/inf_diario/inf_diario_fi_2015/inf_diario_fi_201510.csv\n",
      "Added file: ../data/fundos/inf_diario/inf_diario_fi_2015/inf_diario_fi_201505.csv\n",
      "Added file: ../data/fundos/inf_diario/inf_diario_fi_2015/inf_diario_fi_201501.csv\n",
      "Added file: ../data/fundos/inf_diario/inf_diario_fi_2015/inf_diario_fi_201502.csv\n",
      "Added file: ../data/fundos/inf_diario/inf_diario_fi_2015/inf_diario_fi_201507.csv\n",
      "Added file: ../data/fundos/inf_diario/inf_diario_fi_2013/inf_diario_fi_201303.csv\n",
      "Added file: ../data/fundos/inf_diario/inf_diario_fi_2013/inf_diario_fi_201302.csv\n",
      "Added file: ../data/fundos/inf_diario/inf_diario_fi_2013/inf_diario_fi_201307.csv\n",
      "Added file: ../data/fundos/inf_diario/inf_diario_fi_2013/inf_diario_fi_201305.csv\n",
      "Added file: ../data/fundos/inf_diario/inf_diario_fi_2013/inf_diario_fi_201308.csv\n",
      "Added file: ../data/fundos/inf_diario/inf_diario_fi_2013/inf_diario_fi_201311.csv\n",
      "Added file: ../data/fundos/inf_diario/inf_diario_fi_2013/inf_diario_fi_201301.csv\n",
      "Added file: ../data/fundos/inf_diario/inf_diario_fi_2013/inf_diario_fi_201309.csv\n",
      "Added file: ../data/fundos/inf_diario/inf_diario_fi_2013/inf_diario_fi_201312.csv\n",
      "Added file: ../data/fundos/inf_diario/inf_diario_fi_2013/inf_diario_fi_201304.csv\n"
     ]
    }
   ],
   "source": [
    "df_2022 = pd.DataFrame()\n",
    "paths = glob.glob('../data/fundos/inf_diario/*')\n",
    "for path in paths:\n",
    "    files = glob.glob(f'{path}/*.csv')\n",
    "    for file in files:\n",
    "        df_temp = pd.read_csv(file, encoding='ISO-8859-1', sep=';')\n",
    "        df_2022 = pd.concat([df_2022, df_temp])\n",
    "        print('Added file: ' + file)"
   ]
  },
  {
   "cell_type": "code",
   "execution_count": null,
   "id": "8e2378c1",
   "metadata": {},
   "outputs": [],
   "source": []
  }
 ],
 "metadata": {
  "kernelspec": {
   "display_name": "Python 3 (ipykernel)",
   "language": "python",
   "name": "python3"
  },
  "language_info": {
   "codemirror_mode": {
    "name": "ipython",
    "version": 3
   },
   "file_extension": ".py",
   "mimetype": "text/x-python",
   "name": "python",
   "nbconvert_exporter": "python",
   "pygments_lexer": "ipython3",
   "version": "3.10.6"
  },
  "toc": {
   "base_numbering": 1,
   "nav_menu": {},
   "number_sections": true,
   "sideBar": true,
   "skip_h1_title": false,
   "title_cell": "Table of Contents",
   "title_sidebar": "Contents",
   "toc_cell": false,
   "toc_position": {},
   "toc_section_display": true,
   "toc_window_display": false
  }
 },
 "nbformat": 4,
 "nbformat_minor": 5
}
