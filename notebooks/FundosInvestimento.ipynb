{
 "cells": [
  {
   "cell_type": "markdown",
   "id": "791a8cea",
   "metadata": {},
   "source": [
    "# Imports"
   ]
  },
  {
   "cell_type": "code",
   "execution_count": 1,
   "id": "1b8de1ea",
   "metadata": {
    "ExecuteTime": {
     "end_time": "2023-01-17T13:21:48.305095Z",
     "start_time": "2023-01-17T13:21:47.868116Z"
    }
   },
   "outputs": [],
   "source": [
    "import pandas as pd\n",
    "import matplotlib.pyplot as plt\n",
    "import glob\n",
    "from datetime import datetime"
   ]
  },
  {
   "cell_type": "markdown",
   "id": "efaf26a6",
   "metadata": {},
   "source": [
    "# Data"
   ]
  },
  {
   "cell_type": "markdown",
   "id": "8e40b76b",
   "metadata": {},
   "source": [
    "## Dados cadastrais"
   ]
  },
  {
   "cell_type": "code",
   "execution_count": 2,
   "id": "394e0918",
   "metadata": {
    "ExecuteTime": {
     "end_time": "2023-01-17T13:21:51.082198Z",
     "start_time": "2023-01-17T13:21:50.662268Z"
    }
   },
   "outputs": [
    {
     "name": "stderr",
     "output_type": "stream",
     "text": [
      "/tmp/ipykernel_17022/4102126748.py:1: DtypeWarning: Columns (14,17,18,20,22,24,27,37,38) have mixed types. Specify dtype option on import or set low_memory=False.\n",
      "  info_cadastro = pd.read_csv('../data/fundos/cad_fi.csv', encoding='ISO-8859-1', sep=';')\n"
     ]
    }
   ],
   "source": [
    "info_cadastro = pd.read_csv('../data/fundos/cad_fi.csv', encoding='ISO-8859-1', sep=';')"
   ]
  },
  {
   "cell_type": "markdown",
   "id": "88490989",
   "metadata": {},
   "source": [
    "## Histórico"
   ]
  },
  {
   "cell_type": "code",
   "execution_count": 34,
   "id": "1ad06e85",
   "metadata": {
    "ExecuteTime": {
     "end_time": "2023-01-15T14:33:08.649668Z",
     "start_time": "2023-01-15T14:33:08.303078Z"
    }
   },
   "outputs": [],
   "source": [
    "# Último mês completo\n",
    "fundos_2022_12 = pd.read_csv('../data/fundos/inf_diario/inf_diario_fi_2022/inf_diario_fi_202212.csv', \n",
    "                             encoding='ISO-8859-1', sep=';')"
   ]
  },
  {
   "cell_type": "code",
   "execution_count": 35,
   "id": "3d19e6de",
   "metadata": {
    "ExecuteTime": {
     "end_time": "2023-01-15T14:33:08.704255Z",
     "start_time": "2023-01-15T14:33:08.651097Z"
    }
   },
   "outputs": [
    {
     "data": {
      "text/plain": [
       "1540"
      ]
     },
     "execution_count": 35,
     "metadata": {},
     "output_type": "execute_result"
    }
   ],
   "source": [
    "# Média de 2000 cotistas em Dezembro de 2022\n",
    "cnpj_valido = fundos_2022_12.groupby('CNPJ_FUNDO').mean(numeric_only=True).query('NR_COTST >= 1000').index\n",
    "len(cnpj_valido)"
   ]
  },
  {
   "cell_type": "code",
   "execution_count": 36,
   "id": "71a39b50",
   "metadata": {
    "ExecuteTime": {
     "end_time": "2023-01-15T14:33:25.465322Z",
     "start_time": "2023-01-15T14:33:09.481224Z"
    }
   },
   "outputs": [],
   "source": [
    "# Leitura do histórico\n",
    "df_fundos = pd.DataFrame()\n",
    "paths = glob.glob('../data/fundos/inf_diario/*')\n",
    "for path in paths:\n",
    "    files = glob.glob(f'{path}/*.csv')\n",
    "    for file in files:\n",
    "        df_temp = pd.read_csv(file, encoding='ISO-8859-1', sep=';')\n",
    "        df_temp = df_temp[df_temp['CNPJ_FUNDO'].isin(cnpj_valido)]\n",
    "        df_fundos = pd.concat([df_fundos, df_temp])"
   ]
  },
  {
   "cell_type": "code",
   "execution_count": 37,
   "id": "5eb16d48",
   "metadata": {
    "ExecuteTime": {
     "end_time": "2023-01-15T14:33:25.580397Z",
     "start_time": "2023-01-15T14:33:25.470083Z"
    }
   },
   "outputs": [],
   "source": [
    "# Conversão de data\n",
    "df_fundos['DT_COMPTC'] = pd.to_datetime(df_fundos['DT_COMPTC'])"
   ]
  },
  {
   "cell_type": "code",
   "execution_count": 38,
   "id": "f3bf4ae3",
   "metadata": {
    "ExecuteTime": {
     "end_time": "2023-01-15T14:33:25.971406Z",
     "start_time": "2023-01-15T14:33:25.581465Z"
    }
   },
   "outputs": [],
   "source": [
    "# Adição da denominação social\n",
    "df_fundos_nominacao = df_fundos.merge(info_cadastro[['CNPJ_FUNDO', 'DENOM_SOCIAL']], how='left', on='CNPJ_FUNDO')"
   ]
  },
  {
   "cell_type": "code",
   "execution_count": 39,
   "id": "07b9ffe9",
   "metadata": {
    "ExecuteTime": {
     "end_time": "2023-01-15T14:33:26.444818Z",
     "start_time": "2023-01-15T14:33:25.973432Z"
    }
   },
   "outputs": [],
   "source": [
    "# Ordenando pela denominação social e data\n",
    "df_fundos_nominacao.sort_values(['DENOM_SOCIAL', 'DT_COMPTC'], inplace=True)"
   ]
  },
  {
   "cell_type": "code",
   "execution_count": 40,
   "id": "a5173ab2",
   "metadata": {
    "ExecuteTime": {
     "end_time": "2023-01-15T14:33:26.828039Z",
     "start_time": "2023-01-15T14:33:26.446447Z"
    }
   },
   "outputs": [],
   "source": [
    "# Exclusão dos fundos com denominação social igual a nan\n",
    "df_fundos_nominacao_valido = df_fundos_nominacao[~df_fundos_nominacao['DENOM_SOCIAL'].isna()].copy()"
   ]
  },
  {
   "cell_type": "code",
   "execution_count": 41,
   "id": "1e771fae",
   "metadata": {
    "ExecuteTime": {
     "end_time": "2023-01-15T14:33:26.831891Z",
     "start_time": "2023-01-15T14:33:26.829360Z"
    }
   },
   "outputs": [],
   "source": [
    "# Resetando o index\n",
    "df_fundos_nominacao_valido.reset_index(drop=True, inplace=True)"
   ]
  },
  {
   "cell_type": "code",
   "execution_count": 42,
   "id": "91cc12e6",
   "metadata": {
    "ExecuteTime": {
     "end_time": "2023-01-15T14:33:28.084796Z",
     "start_time": "2023-01-15T14:33:26.833150Z"
    }
   },
   "outputs": [
    {
     "name": "stdout",
     "output_type": "stream",
     "text": [
      "Before drop duplicated: 1901142\n",
      "After drop duplicated: 1493579\n"
     ]
    }
   ],
   "source": [
    "print(f'Before drop duplicated: {df_fundos_nominacao_valido.shape[0]}')\n",
    "df_fundos_nominacao_valido.drop_duplicates(inplace=True)\n",
    "print(f'After drop duplicated: {df_fundos_nominacao_valido.shape[0]}')"
   ]
  },
  {
   "cell_type": "code",
   "execution_count": 43,
   "id": "1aef29ab",
   "metadata": {
    "ExecuteTime": {
     "end_time": "2023-01-15T14:33:29.096944Z",
     "start_time": "2023-01-15T14:33:28.086012Z"
    }
   },
   "outputs": [
    {
     "name": "stdout",
     "output_type": "stream",
     "text": [
      "Check duplicates\n"
     ]
    },
    {
     "data": {
      "text/html": [
       "<div>\n",
       "<style scoped>\n",
       "    .dataframe tbody tr th:only-of-type {\n",
       "        vertical-align: middle;\n",
       "    }\n",
       "\n",
       "    .dataframe tbody tr th {\n",
       "        vertical-align: top;\n",
       "    }\n",
       "\n",
       "    .dataframe thead th {\n",
       "        text-align: right;\n",
       "    }\n",
       "</style>\n",
       "<table border=\"1\" class=\"dataframe\">\n",
       "  <thead>\n",
       "    <tr style=\"text-align: right;\">\n",
       "      <th></th>\n",
       "      <th>CNPJ_FUNDO</th>\n",
       "      <th>DT_COMPTC</th>\n",
       "      <th>VL_TOTAL</th>\n",
       "      <th>VL_QUOTA</th>\n",
       "      <th>VL_PATRIM_LIQ</th>\n",
       "      <th>CAPTC_DIA</th>\n",
       "      <th>RESG_DIA</th>\n",
       "      <th>NR_COTST</th>\n",
       "      <th>TP_FUNDO</th>\n",
       "      <th>DENOM_SOCIAL</th>\n",
       "    </tr>\n",
       "  </thead>\n",
       "  <tbody>\n",
       "  </tbody>\n",
       "</table>\n",
       "</div>"
      ],
      "text/plain": [
       "Empty DataFrame\n",
       "Columns: [CNPJ_FUNDO, DT_COMPTC, VL_TOTAL, VL_QUOTA, VL_PATRIM_LIQ, CAPTC_DIA, RESG_DIA, NR_COTST, TP_FUNDO, DENOM_SOCIAL]\n",
       "Index: []"
      ]
     },
     "execution_count": 43,
     "metadata": {},
     "output_type": "execute_result"
    }
   ],
   "source": [
    "print('Check duplicates')\n",
    "df_fundos_nominacao_valido[df_fundos_nominacao_valido.duplicated()]"
   ]
  },
  {
   "cell_type": "code",
   "execution_count": 44,
   "id": "3c8e9a13",
   "metadata": {
    "ExecuteTime": {
     "end_time": "2023-01-15T14:33:29.158928Z",
     "start_time": "2023-01-15T14:33:29.098161Z"
    }
   },
   "outputs": [],
   "source": [
    "# Histórico exemplo\n",
    "aux = df_fundos_nominacao_valido[df_fundos_nominacao_valido['CNPJ_FUNDO'] == '00.601.692/0001-23']"
   ]
  },
  {
   "cell_type": "code",
   "execution_count": 45,
   "id": "74aba1b0",
   "metadata": {
    "ExecuteTime": {
     "end_time": "2023-01-15T14:33:29.281621Z",
     "start_time": "2023-01-15T14:33:29.160860Z"
    }
   },
   "outputs": [
    {
     "data": {
      "text/plain": [
       "[<matplotlib.lines.Line2D at 0x7facbe4d0610>]"
      ]
     },
     "execution_count": 45,
     "metadata": {},
     "output_type": "execute_result"
    },
    {
     "data": {
      "image/png": "[encoded data removed]",
      "text/plain": [
       "<Figure size 640x480 with 1 Axes>"
      ]
     },
     "metadata": {},
     "output_type": "display_data"
    }
   ],
   "source": [
    "plt.plot(aux['DT_COMPTC'], aux['VL_QUOTA'])"
   ]
  },
  {
   "cell_type": "markdown",
   "id": "88ca2086",
   "metadata": {},
   "source": [
    "# Data Output"
   ]
  },
  {
   "cell_type": "code",
   "execution_count": 46,
   "id": "b50f09ae",
   "metadata": {
    "ExecuteTime": {
     "end_time": "2023-01-15T14:41:36.151005Z",
     "start_time": "2023-01-15T14:41:36.145672Z"
    }
   },
   "outputs": [],
   "source": [
    "# Renomeação das colunas\n",
    "df_fundos_nominacao_valido.columns = df_fundos_nominacao_valido.columns.str.lower()"
   ]
  },
  {
   "cell_type": "code",
   "execution_count": 47,
   "id": "2470cbd1",
   "metadata": {
    "ExecuteTime": {
     "end_time": "2023-01-15T14:41:48.560947Z",
     "start_time": "2023-01-15T14:41:48.557351Z"
    }
   },
   "outputs": [
    {
     "data": {
      "text/plain": [
       "Index(['cnpj_fundo', 'dt_comptc', 'vl_total', 'vl_quota', 'vl_patrim_liq',\n",
       "       'captc_dia', 'resg_dia', 'nr_cotst', 'tp_fundo', 'denom_social'],\n",
       "      dtype='object')"
      ]
     },
     "execution_count": 47,
     "metadata": {},
     "output_type": "execute_result"
    }
   ],
   "source": [
    "# Dados disponível\n",
    "df_fundos_nominacao_valido.columns"
   ]
  },
  {
   "cell_type": "code",
   "execution_count": 48,
   "id": "95d1484c",
   "metadata": {
    "ExecuteTime": {
     "end_time": "2023-01-15T14:44:06.284084Z",
     "start_time": "2023-01-15T14:44:06.196307Z"
    }
   },
   "outputs": [],
   "source": [
    "# Seleção e ordenação das columnas\n",
    "df_fundos_nominacao_valido = df_fundos_nominacao_valido[['dt_comptc', 'cnpj_fundo', 'denom_social', 'vl_quota', \n",
    "                                                         'vl_patrim_liq', 'captc_dia', 'resg_dia', \n",
    "                                                         'nr_cotst', 'vl_total']]"
   ]
  },
  {
   "cell_type": "code",
   "execution_count": 49,
   "id": "cbe5d471",
   "metadata": {
    "ExecuteTime": {
     "end_time": "2023-01-15T14:44:11.148414Z",
     "start_time": "2023-01-15T14:44:11.145228Z"
    }
   },
   "outputs": [],
   "source": [
    "# Renomeando a coluna de data\n",
    "df_fundos_nominacao_valido.rename(columns={'dt_comptc': 'date'}, inplace=True)"
   ]
  },
  {
   "cell_type": "code",
   "execution_count": 50,
   "id": "3ed89003",
   "metadata": {
    "ExecuteTime": {
     "end_time": "2023-01-15T14:44:20.307711Z",
     "start_time": "2023-01-15T14:44:13.817028Z"
    }
   },
   "outputs": [],
   "source": [
    "# Geração do arquivo histórico até 2022-12\n",
    "df_fundos_nominacao_valido.to_csv('../data/fundos.csv', index=False)"
   ]
  }
 ],
 "metadata": {
  "kernelspec": {
   "display_name": "Python 3 (ipykernel)",
   "language": "python",
   "name": "python3"
  },
  "language_info": {
   "codemirror_mode": {
    "name": "ipython",
    "version": 3
   },
   "file_extension": ".py",
   "mimetype": "text/x-python",
   "name": "python",
   "nbconvert_exporter": "python",
   "pygments_lexer": "ipython3",
   "version": "3.10.6"
  },
  "toc": {
   "base_numbering": 1,
   "nav_menu": {},
   "number_sections": true,
   "sideBar": true,
   "skip_h1_title": false,
   "title_cell": "Table of Contents",
   "title_sidebar": "Contents",
   "toc_cell": false,
   "toc_position": {
    "height": "calc(100% - 180px)",
    "left": "10px",
    "top": "150px",
    "width": "195.333px"
   },
   "toc_section_display": true,
   "toc_window_display": true
  }
 },
 "nbformat": 4,
 "nbformat_minor": 5
}
